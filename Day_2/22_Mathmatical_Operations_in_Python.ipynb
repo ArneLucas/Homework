{
 "cells": [
  {
   "cell_type": "code",
   "execution_count": 1,
   "metadata": {},
   "outputs": [
    {
     "name": "stdout",
     "output_type": "stream",
     "text": [
      "7.0\n"
     ]
    }
   ],
   "source": [
    "3 + 2\n",
    "7 - 4\n",
    "5 * 2\n",
    "6 / 3 # always results in a floating point number\n",
    "2 ** 3\n",
    "print(3 * 3 + 3 / 3 - 3)"
   ]
  }
 ],
 "metadata": {
  "interpreter": {
   "hash": "3d06bfa3b30dce378ac8c3ccbf32ef9a6383160a0b902a2c7644cb660208a199"
  },
  "kernelspec": {
   "display_name": "Python 3.8.8 64-bit ('base': conda)",
   "language": "python",
   "name": "python3"
  },
  "language_info": {
   "codemirror_mode": {
    "name": "ipython",
    "version": 3
   },
   "file_extension": ".py",
   "mimetype": "text/x-python",
   "name": "python",
   "nbconvert_exporter": "python",
   "pygments_lexer": "ipython3",
   "version": "3.8.8"
  },
  "orig_nbformat": 4
 },
 "nbformat": 4,
 "nbformat_minor": 2
}
