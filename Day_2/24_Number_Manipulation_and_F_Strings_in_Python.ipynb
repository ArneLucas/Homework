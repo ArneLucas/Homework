{
 "cells": [
  {
   "cell_type": "code",
   "execution_count": 6,
   "metadata": {},
   "outputs": [
    {
     "name": "stdout",
     "output_type": "stream",
     "text": [
      "2.6666666666666665\n",
      "2\n",
      "3\n",
      "2.67\n"
     ]
    }
   ],
   "source": [
    "# Rounding\n",
    "print(8/3) # : 2.6666666666666665\n",
    "print(int(8/3)) # cuts off decimals: 2\n",
    "print(round(8/3)) # rounds to whole num: 3\n",
    "print(round(8/3,2)) # round(number, ndigits): 2.67"
   ]
  },
  {
   "cell_type": "code",
   "execution_count": 7,
   "metadata": {},
   "outputs": [
    {
     "name": "stdout",
     "output_type": "stream",
     "text": [
      "2\n"
     ]
    }
   ],
   "source": [
    "# Flaw division: double // returns int\n",
    "print(8 // 3)"
   ]
  },
  {
   "cell_type": "code",
   "execution_count": 8,
   "metadata": {},
   "outputs": [
    {
     "name": "stdout",
     "output_type": "stream",
     "text": [
      "1\n"
     ]
    }
   ],
   "source": [
    "# Add/substract/divide etc. and save to variable: += -= *= etc...\n",
    "\n",
    "score = 0\n",
    "\n",
    "# Users scores a point\n",
    "score += 1\n",
    "print(score)"
   ]
  },
  {
   "cell_type": "code",
   "execution_count": 12,
   "metadata": {},
   "outputs": [
    {
     "name": "stdout",
     "output_type": "stream",
     "text": [
      "Your score is 0, your height is 1.8. You are winning is True\n",
      "Your score is 0, your height is 1.8. You are winning is True\n"
     ]
    }
   ],
   "source": [
    "# f-Strings\n",
    "\n",
    "score = 0 #int\n",
    "height = 1.8 #float\n",
    "isWinning = True #Boolean\n",
    "\n",
    "# print(\"Your score is \" + score) #TypeError (string + int)\n",
    "print(\"Your score is \" + str(score) + \", your height is \" + str(height) + \". \" + \"You are winning is \" + str(isWinning)) # works\n",
    "print(f\"Your score is {score}, your height is {height}. You are winning is {isWinning}\") # works better"
   ]
  },
  {
   "cell_type": "code",
   "execution_count": null,
   "metadata": {},
   "outputs": [],
   "source": []
  }
 ],
 "metadata": {
  "interpreter": {
   "hash": "3d06bfa3b30dce378ac8c3ccbf32ef9a6383160a0b902a2c7644cb660208a199"
  },
  "kernelspec": {
   "display_name": "Python 3.8.8 64-bit ('base': conda)",
   "language": "python",
   "name": "python3"
  },
  "language_info": {
   "codemirror_mode": {
    "name": "ipython",
    "version": 3
   },
   "file_extension": ".py",
   "mimetype": "text/x-python",
   "name": "python",
   "nbconvert_exporter": "python",
   "pygments_lexer": "ipython3",
   "version": "3.8.8"
  },
  "orig_nbformat": 4
 },
 "nbformat": 4,
 "nbformat_minor": 2
}
