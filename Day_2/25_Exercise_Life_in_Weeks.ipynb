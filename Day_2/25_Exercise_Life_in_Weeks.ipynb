{
 "cells": [
  {
   "cell_type": "code",
   "execution_count": 12,
   "metadata": {},
   "outputs": [],
   "source": [
    "# 🚨 Don't change the code below 👇\n",
    "age = input(\"What is your current age?\")\n",
    "# 🚨 Don't change the code above 👆\n",
    "\n",
    "#Write your code below this line 👇"
   ]
  },
  {
   "cell_type": "code",
   "execution_count": 13,
   "metadata": {},
   "outputs": [],
   "source": [
    "# 1 year = 365 days\n",
    "# 1 year = 52 weeks\n",
    "# 1 year = 12 months\n",
    "\n",
    "# Output = You have x days, y weeks, and z months left."
   ]
  },
  {
   "cell_type": "code",
   "execution_count": 14,
   "metadata": {},
   "outputs": [
    {
     "name": "stdout",
     "output_type": "stream",
     "text": [
      "You have 20805 days, 2964 weeks, and 684 months left.\n"
     ]
    }
   ],
   "source": [
    "life_expectancy = 90 #years\n",
    "life_expectancy_days = life_expectancy * 365\n",
    "life_expectancy_weeks = life_expectancy * 52\n",
    "life_expectancy_months = life_expectancy * 12\n",
    "age_int = int(age)\n",
    "age_in_days = age_int * 365\n",
    "age_in_weeks = age_int * 52\n",
    "age_in_months = age_int * 12\n",
    "days_left = life_expectancy_days - age_in_days\n",
    "weeks_left = life_expectancy_weeks - age_in_weeks\n",
    "months_left = life_expectancy_months - age_in_months\n",
    "\n",
    "print(f\"You have {days_left} days, {weeks_left} weeks, and {months_left} months left.\")"
   ]
  }
 ],
 "metadata": {
  "interpreter": {
   "hash": "3d06bfa3b30dce378ac8c3ccbf32ef9a6383160a0b902a2c7644cb660208a199"
  },
  "kernelspec": {
   "display_name": "Python 3.8.8 64-bit ('base': conda)",
   "language": "python",
   "name": "python3"
  },
  "language_info": {
   "codemirror_mode": {
    "name": "ipython",
    "version": 3
   },
   "file_extension": ".py",
   "mimetype": "text/x-python",
   "name": "python",
   "nbconvert_exporter": "python",
   "pygments_lexer": "ipython3",
   "version": "3.8.8"
  },
  "orig_nbformat": 4
 },
 "nbformat": 4,
 "nbformat_minor": 2
}
